{
 "cells": [
  {
   "cell_type": "markdown",
   "metadata": {},
   "source": [
    "## Introduction: Problem"
   ]
  },
  {
   "cell_type": "markdown",
   "metadata": {},
   "source": [
    "In this project we will try to unravel the data provided by the **Mexico City** (CDMX) government about the **Sexual Assault** on it and about the **gender violence alert** that the city is suffering trough.\n",
    "\n",
    "In the last 5 years it became more evident the increase of \"violent sexual assault crimes on the streets\" formally called as \"Rape\", we will navigate trough the raw information and make it understandable and easy to assimilate for any concerned citizen aware of this severe problem and proportionate a fidelity map based on reliable source of information to graphically understand the problem."
   ]
  }
 ],
 "metadata": {
  "kernelspec": {
   "display_name": "Python",
   "language": "python",
   "name": "conda-env-python-py"
  },
  "language_info": {
   "codemirror_mode": {
    "name": "ipython",
    "version": 3
   },
   "file_extension": ".py",
   "mimetype": "text/x-python",
   "name": "python",
   "nbconvert_exporter": "python",
   "pygments_lexer": "ipython3",
   "version": "3.6.7"
  }
 },
 "nbformat": 4,
 "nbformat_minor": 4
}
