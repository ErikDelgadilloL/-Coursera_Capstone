{
 "cells": [
  {
   "cell_type": "markdown",
   "metadata": {},
   "source": [
    "## Data\n",
    "In order to unravel the data we want to answer the most important questions about it:\n",
    "\n",
    "* how many reported \"Rapes\" exist?\n",
    "\n",
    "* where are located the considered \"high risk areas\"?\n",
    "\n",
    "* how severe has become the situation compared with other periods of time?\n",
    "\n",
    "We decided obtain the data from the most reliable source in this matter.\n",
    "we have in our disposal:\n",
    "\n",
    "* the public data base of all the opened investigations by the Justice Department A.K.A **\"Procuraduria General de justicia\"** with URL: https://datos.cdmx.gob.mx/explore/dataset/carpetas-de-investigacion-pgj-de-la-ciudad-de-mexico/table/?disjunctive.ao_hechos&disjunctive.delito\n",
    "\n",
    "* Geojson file with the exact location and delimitation of all the CDMX boroughs with URL: https://datos.cdmx.gob.mx/explore/dataset/alcaldias/table/\n",
    "\n",
    "* Database of the reported crimes with known adresses and an aggregate of \"Latitude\" and \"Longitude\" obtained for the previous wrangled API consult*. \n",
    "\n",
    "**(it is important to make a clarification, we will ignore the crime reports with a reported borough different from the 16 official alcaldias, and for our \"point map\" we will either exclude the  crime reports without Lat, Long Data.)**"
   ]
  }
 ],
 "metadata": {
  "kernelspec": {
   "display_name": "Python",
   "language": "python",
   "name": "conda-env-python-py"
  },
  "language_info": {
   "codemirror_mode": {
    "name": "ipython",
    "version": 3
   },
   "file_extension": ".py",
   "mimetype": "text/x-python",
   "name": "python",
   "nbconvert_exporter": "python",
   "pygments_lexer": "ipython3",
   "version": "3.6.7"
  }
 },
 "nbformat": 4,
 "nbformat_minor": 4
}
